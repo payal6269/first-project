{
  "nbformat": 4,
  "nbformat_minor": 0,
  "metadata": {
    "colab": {
      "provenance": [],
      "authorship_tag": "ABX9TyNzi42SNPQ0mCbLut2hklb1",
      "include_colab_link": true
    },
    "kernelspec": {
      "name": "python3",
      "display_name": "Python 3"
    },
    "language_info": {
      "name": "python"
    }
  },
  "cells": [
    {
      "cell_type": "markdown",
      "metadata": {
        "id": "view-in-github",
        "colab_type": "text"
      },
      "source": [
        "<a href=\"https://colab.research.google.com/github/payal6269/first-project/blob/main/Untitled3.ipynb\" target=\"_parent\"><img src=\"https://colab.research.google.com/assets/colab-badge.svg\" alt=\"Open In Colab\"/></a>"
      ]
    },
    {
      "cell_type": "markdown",
      "source": [
        "CHALLENGE QUESTION"
      ],
      "metadata": {
        "id": "LtDIYwJhNzNH"
      }
    },
    {
      "cell_type": "code",
      "source": [
        "L= [10,\"Ram\",2,\"Shyam\",5,\"Rana\",8]\n",
        "\n",
        "L1=[]\n",
        "L2=[]\n",
        "for i in L:\n",
        "  try:\n",
        "    L1.append(int(i))\n",
        "  except:\n",
        "    L2.append(i)\n",
        "L1.sort()\n",
        "L2.sort()\n",
        "L3=L1+L2\n",
        "print(L3)"
      ],
      "metadata": {
        "colab": {
          "base_uri": "https://localhost:8080/"
        },
        "id": "GB0RBhnEN2ko",
        "outputId": "e944efe4-fe21-4431-8e43-29972a879c6e"
      },
      "execution_count": 1,
      "outputs": [
        {
          "output_type": "stream",
          "name": "stdout",
          "text": [
            "[2, 5, 8, 10, 'Ram', 'Rana', 'Shyam']\n"
          ]
        }
      ]
    }
  ]
}